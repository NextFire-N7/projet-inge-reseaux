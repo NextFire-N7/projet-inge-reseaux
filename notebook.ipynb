{
 "cells": [
  {
   "cell_type": "markdown",
   "metadata": {},
   "source": [
    "# Projet ingénieurie des réseaux\n"
   ]
  },
  {
   "cell_type": "code",
   "execution_count": 8,
   "metadata": {},
   "outputs": [],
   "source": [
    "import pandas as pd\n",
    "import json"
   ]
  },
  {
   "cell_type": "code",
   "execution_count": 11,
   "metadata": {},
   "outputs": [],
   "source": [
    "def parse_log(log):\n",
    "    # load json\n",
    "    with open(log, 'r') as f:\n",
    "        data = json.load(f)\n",
    "    # infos\n",
    "    host = data['start']['connected'][0]['local_host']\n",
    "    protocol = data['start']['test_start']['protocol']\n",
    "    start = data['start']['timestamp']['timesecs']\n",
    "    # save bits_per_second\n",
    "    bps = {}\n",
    "    for ival in data['intervals']:\n",
    "        stream = ival['streams'][0]\n",
    "        ival_start = int(start + stream['end'])\n",
    "        bps[ival_start] = stream['bits_per_second']\n",
    "    # return series\n",
    "    series = pd.Series(bps, name=f\"{host}_{protocol}\")\n",
    "    return series\n",
    "\n",
    "\n",
    "def get_df(*logs):\n",
    "    df = pd.DataFrame()\n",
    "    # concat series\n",
    "    for log in logs:\n",
    "        series = parse_log(log)\n",
    "        df = pd.concat([df, series.to_frame()], axis=1)\n",
    "    return df\n",
    "\n",
    "\n",
    "def plot(df):\n",
    "    # df = df.fillna(0)\n",
    "    df /= 1e6\n",
    "    df.index -= df.index.min()\n",
    "    df.plot(xlabel='t (s)', ylabel='bw (Mbps)', grid=True)\n"
   ]
  },
  {
   "cell_type": "markdown",
   "metadata": {},
   "source": [
    "iPerf3 serveur -> client\n",
    "\n",
    "`iperf3 -c 100.0.0.2 -p 5201-5203 -i 1 -t 30 -b 0 -R`\\\n",
    "`-u` pour UDP\\\n",
    "`-J` pour JSON"
   ]
  },
  {
   "cell_type": "markdown",
   "metadata": {},
   "source": [
    "## TCP + UDP sans QoS\n"
   ]
  },
  {
   "cell_type": "code",
   "execution_count": 12,
   "metadata": {},
   "outputs": [
    {
     "data": {
      "image/png": "[encoded data removed]",
      "text/plain": [
       "<Figure size 432x288 with 1 Axes>"
      ]
     },
     "metadata": {
      "needs_background": "light"
     },
     "output_type": "display_data"
    }
   ],
   "source": [
    "df = get_df('./data/no_qos/tcp_udp/tcp.json', './data/no_qos/tcp_udp/udp.json')\n",
    "plot(df)"
   ]
  },
  {
   "cell_type": "markdown",
   "metadata": {},
   "source": [
    "UDP mange TCP comme prévu"
   ]
  },
  {
   "cell_type": "markdown",
   "metadata": {},
   "source": [
    "## Instauration de QoS sur `tc`"
   ]
  },
  {
   "cell_type": "code",
   "execution_count": null,
   "metadata": {},
   "outputs": [],
   "source": []
  }
 ],
 "metadata": {
  "interpreter": {
   "hash": "a480ea624de50b18c9ed56622da88247ccfa4e2958420c7a3406aa5dc7195180"
  },
  "kernelspec": {
   "display_name": "Python 3.10.2 ('.venv': venv)",
   "language": "python",
   "name": "python3"
  },
  "language_info": {
   "codemirror_mode": {
    "name": "ipython",
    "version": 3
   },
   "file_extension": ".py",
   "mimetype": "text/x-python",
   "name": "python",
   "nbconvert_exporter": "python",
   "pygments_lexer": "ipython3",
   "version": "3.10.2"
  },
  "orig_nbformat": 4
 },
 "nbformat": 4,
 "nbformat_minor": 2
}
